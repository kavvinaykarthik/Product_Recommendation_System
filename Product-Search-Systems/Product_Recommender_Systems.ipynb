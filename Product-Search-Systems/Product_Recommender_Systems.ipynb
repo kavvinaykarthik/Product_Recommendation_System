{
  "cells": [
    {
      "cell_type": "markdown",
      "metadata": {
        "id": "view-in-github",
        "colab_type": "text"
      },
      "source": [
        "<a href=\"https://colab.research.google.com/github/Varshi45/Product-Recommendation-Systems/blob/main/Product_Recommender_Systems.ipynb\" target=\"_parent\"><img src=\"https://colab.research.google.com/assets/colab-badge.svg\" alt=\"Open In Colab\"/></a>"
      ]
    },
    {
      "cell_type": "code",
      "source": [
        "!pip install fuzzywuzzy"
      ],
      "metadata": {
        "colab": {
          "base_uri": "https://localhost:8080/"
        },
        "id": "VA_1hdK15ctC",
        "outputId": "3b54d494-5b3d-402a-a134-ea43c840949c"
      },
      "execution_count": null,
      "outputs": [
        {
          "output_type": "stream",
          "name": "stdout",
          "text": [
            "Requirement already satisfied: fuzzywuzzy in /usr/local/lib/python3.10/dist-packages (0.18.0)\n"
          ]
        }
      ]
    },
    {
      "cell_type": "code",
      "source": [
        "import pandas as pd\n",
        "import numpy as np\n",
        "from sklearn.metrics.pairwise import cosine_similarity\n",
        "from fuzzywuzzy import fuzz, process\n",
        "import pickle"
      ],
      "metadata": {
        "id": "0IkcGWgNsP10"
      },
      "execution_count": null,
      "outputs": []
    },
    {
      "cell_type": "code",
      "source": [
        "from google.colab import drive\n",
        "drive.mount('/content/drive')"
      ],
      "metadata": {
        "colab": {
          "base_uri": "https://localhost:8080/"
        },
        "id": "EsIr8oXr5RXq",
        "outputId": "6cfe56a7-6cd8-46b0-a511-330588d187f0"
      },
      "execution_count": null,
      "outputs": [
        {
          "output_type": "stream",
          "name": "stdout",
          "text": [
            "Drive already mounted at /content/drive; to attempt to forcibly remount, call drive.mount(\"/content/drive\", force_remount=True).\n"
          ]
        }
      ]
    },
    {
      "cell_type": "code",
      "source": [
        "\n",
        "data = pd.read_csv(\"/content/drive/MyDrive/Amazon-Products.csv\")\n",
        "\n",
        "# Fill NaN values in 'ratings' and 'no_of_ratings' columns with zeros\n",
        "data['ratings'].fillna(0, inplace=True)\n",
        "data['no_of_ratings'].fillna(0, inplace=True)"
      ],
      "metadata": {
        "id": "CF-ggqUgsTea",
        "colab": {
          "base_uri": "https://localhost:8080/"
        },
        "outputId": "5f6a0155-8325-4735-8e37-6a1678459583"
      },
      "execution_count": null,
      "outputs": [
        {
          "output_type": "stream",
          "name": "stderr",
          "text": [
            "<ipython-input-12-7e54ad014ee5>:1: DtypeWarning: Columns (6,7) have mixed types. Specify dtype option on import or set low_memory=False.\n",
            "  data = pd.read_csv(\"/content/drive/MyDrive/Amazon-Products.csv\")\n"
          ]
        }
      ]
    },
    {
      "cell_type": "code",
      "source": [
        "# Convert 'ratings' column to numeric\n",
        "data['ratings'] = pd.to_numeric(data['ratings'], errors='coerce')\n",
        "\n",
        "# Convert 'name' and 'sub_category' columns to strings\n",
        "data['name'] = data['name'].astype(str)\n",
        "data['sub_category'] = data['sub_category'].astype(str)"
      ],
      "metadata": {
        "id": "a2_C3NipsVmp"
      },
      "execution_count": null,
      "outputs": []
    },
    {
      "cell_type": "code",
      "source": [
        "# Pivot the data to create the ratings utility matrix\n",
        "ratings_matrix = data.pivot_table(values='ratings', index='name', columns='sub_category', fill_value=0)\n",
        "\n",
        "# Calculate the cosine similarity between items (sub_categories)\n",
        "item_similarity = cosine_similarity(ratings_matrix.T)"
      ],
      "metadata": {
        "id": "IENGeQJKsX_E"
      },
      "execution_count": null,
      "outputs": []
    },
    {
      "cell_type": "code",
      "source": [
        "# Create a DataFrame with item similarity\n",
        "item_similarity_df = pd.DataFrame(item_similarity, index=ratings_matrix.columns, columns=ratings_matrix.columns)\n"
      ],
      "metadata": {
        "id": "xEWuIrgHsbWs"
      },
      "execution_count": null,
      "outputs": []
    },
    {
      "cell_type": "code",
      "source": [
        "def get_recommendations(product_name, num_recommendations=5, num_products=10):\n",
        "    # Handle spelling mistakes using fuzzy matching\n",
        "    best_match, score = process.extractOne(product_name, item_similarity_df.index)\n",
        "\n",
        "    similar_scores = item_similarity_df[best_match]\n",
        "    similar_sub_categories = similar_scores.sort_values(ascending=False).index.tolist()\n",
        "\n",
        "    # Get the exact sub-category that the input product belongs to\n",
        "    exact_sub_category = process.extractOne(product_name, item_similarity_df.index)[0]\n",
        "\n",
        "    # Display some products from the exact sub-category\n",
        "    sub_category_products = data[data['sub_category'] == exact_sub_category].nlargest(num_products, 'ratings')['name']\n",
        "\n",
        "    # Display top-rated products from the exact sub-category\n",
        "    print(f\"Best rated products from '{exact_sub_category}':\")\n",
        "    for j, product_name in enumerate(sub_category_products):\n",
        "        print(f\"{j+1}: {product_name}\")\n",
        "\n",
        "    # Display top recommended sub-categories\n",
        "    print(f\"\\nTop Recommended Sub-Categories for '{product_name}':\")\n",
        "    for i, sub_category in enumerate(similar_sub_categories[:num_recommendations]):\n",
        "        print(f\"{i+1}: {sub_category}\")\n",
        "\n"
      ],
      "metadata": {
        "id": "heZC2i9bsdca"
      },
      "execution_count": null,
      "outputs": []
    },
    {
      "cell_type": "code",
      "source": [
        "# Choose a product name to get recommendations for\n",
        "while True:\n",
        "    user_input = input(\"Enter a product name, sub-category, or 'exit' to quit: \")\n",
        "\n",
        "    if user_input.lower() == 'exit':\n",
        "        break\n",
        "\n",
        "    get_recommendations(user_input, num_recommendations=10, num_products=10)\n"
      ],
      "metadata": {
        "id": "6XgQaz2-sf7w",
        "colab": {
          "base_uri": "https://localhost:8080/"
        },
        "outputId": "2be627be-1a7f-426c-bc50-8bbc484397df"
      },
      "execution_count": null,
      "outputs": [
        {
          "name": "stdout",
          "output_type": "stream",
          "text": [
            "Enter a product name, sub-category, or 'exit' to quit: headphones\n",
            "Best rated products from 'Headphones':\n",
            "1: M10 Wireless Earbuds Bluetooth 5.1 TWS 2200mAh Power Bank Charging Box in Ear Earphones True Stereo Sports Headphones Wate...\n",
            "2: CLAVIER Pulse in-Ear Headphones/Earphones with Stereo Mic for All Smartphones with Carrying Case (Black)\n",
            "3: Wireless Earphones for OnePlus Nord/ 1+ /One Plus Nord Original Sports Bluetooth Wireless Earphone with Deep Bass and Neck...\n",
            "4: SPR™ Compatible for Oppo A5s, Oppo F11 Pro, Oppo F11, Oppo K1, Oppo A9, Oppo F9 Pro, Oppo A3s, Oppo A7, Oppo F11 Pro, Oppo...\n",
            "5: (Renewed) boAt Rockerz 450 On-Ear Headphones with 15 Hours Battery, 40mm Drivers, Padded Ear Cushions, Easy Access Control...\n",
            "6: WISHMECHSTORE Wireless Headset S109 Bluetooth v5.0 Ear Clip 16 Hours of Calling with 1 Hour Charge for Music,Calling,Sport...\n",
            "7: Ckroar M10 True Wireless Earbuds, Bluetooth 5.1 Earphones Auto Pairing Bluetooth TWS Bluetooth Headset (Black, True Wireless)\n",
            "8: B11 Wireless Bluetooth in Ear Neckband Earbud Portable Headset Sports Running Sweatproof Compatible with All Android Smart...\n",
            "9: Shopsum In-Ear Earphones for Samsung Galaxy A9 Pro 2018 Earphone Original Like Wired Stereo Deep Bass Head Hands-free Head...\n",
            "10: (Renewed) Boult Audio ProBass EQCharge Bluetooth Headset (Black)\n",
            "\n",
            "Top Recommended Sub-Categories for '(Renewed) Boult Audio ProBass EQCharge Bluetooth Headset (Black)':\n",
            "1: Headphones\n",
            "2: All Electronics\n",
            "3: Musical Instruments & Professional Audio\n",
            "4: All Car & Motorbike Products\n",
            "5: Bags & Luggage\n",
            "6: Home Entertainment Systems\n",
            "7: Televisions\n",
            "8: Camera Accessories\n",
            "9: Cameras\n",
            "10: Refrigerators\n",
            "Enter a product name, sub-category, or 'exit' to quit: exit\n"
          ]
        }
      ]
    },
    {
      "cell_type": "code",
      "source": [
        "# Save the ratings matrix\n",
        "with open('ratings_matrix.pkl', 'wb') as f:\n",
        "    pickle.dump(ratings_matrix, f)"
      ],
      "metadata": {
        "id": "vTA5rDFr-tXb"
      },
      "execution_count": null,
      "outputs": []
    },
    {
      "cell_type": "code",
      "source": [
        "with open('item_similarity.pkl', 'wb') as f:\n",
        "    pickle.dump(item_similarity_df, f)"
      ],
      "metadata": {
        "id": "A8K9nmE8DHR5"
      },
      "execution_count": null,
      "outputs": []
    },
    {
      "cell_type": "code",
      "source": [
        "with open('get_recommendations.pkl', 'wb') as f:\n",
        "    pickle.dump(get_recommendations, f)"
      ],
      "metadata": {
        "id": "-lJVPHg7EA_D"
      },
      "execution_count": null,
      "outputs": []
    }
  ],
  "metadata": {
    "colab": {
      "provenance": [],
      "include_colab_link": true
    },
    "kernelspec": {
      "display_name": "Python 3",
      "name": "python3"
    },
    "language_info": {
      "name": "python"
    }
  },
  "nbformat": 4,
  "nbformat_minor": 0
}